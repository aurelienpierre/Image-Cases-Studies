{
 "cells": [
  {
   "cell_type": "code",
   "execution_count": 24,
   "metadata": {},
   "outputs": [
    {
     "name": "stdout",
     "output_type": "stream",
     "text": [
      "Populating the interactive namespace from numpy and matplotlib\n"
     ]
    },
    {
     "name": "stderr",
     "output_type": "stream",
     "text": [
      "/home/aurelien/anaconda3/lib/python3.6/site-packages/IPython/core/magics/pylab.py:160: UserWarning: pylab import has clobbered these variables: ['norm', 'pylab']\n",
      "`%matplotlib` prevents importing * from pylab and numpy\n",
      "  \"\\n`%matplotlib` prevents importing * from pylab and numpy\"\n"
     ]
    }
   ],
   "source": [
    "import numpy as np\n",
    "from PIL import Image\n",
    "import colorsys\n",
    "import pylab\n",
    "%pylab inline"
   ]
  },
  {
   "cell_type": "markdown",
   "metadata": {},
   "source": [
    "## Functions"
   ]
  },
  {
   "cell_type": "code",
   "execution_count": 38,
   "metadata": {
    "collapsed": true
   },
   "outputs": [],
   "source": [
    "def gaussian_weights(source, target, sigma):\n",
    "    return np.exp(-(source - target)**2 / (2 * sigma**2)) / (sigma * np.sqrt(2 * np.pi))\n",
    "\n",
    "def hue(source, target, amount):\n",
    "    \"\"\"Move the hue of source closer to the target, \n",
    "    assuming source and target angles between [-pi; pi],\n",
    "    according to their distance\n",
    "    \"\"\"\n",
    "    \n",
    "    if amount != 0:\n",
    "        sigma = np.pi\n",
    "        x = np.cos(source) + amount * (np.cos(target) - np.cos(source)) * np.pi * gaussian_weights(np.cos(source), np.cos(target), sigma)\n",
    "        y = np.sin(source) + amount * (np.sin(target) - np.sin(source)) * np.pi * gaussian_weights(np.sin(source), np.sin(target), sigma)\n",
    "\n",
    "        return np.arctan2(y, x)\n",
    "    \n",
    "    else :\n",
    "        return source\n",
    "\n",
    "def normal2rad(theta):\n",
    "    \"\"\"Remap the hue channel to [-pi; pi] radians assuming source is in [0;1]\"\"\"\n",
    "    \n",
    "    # Rescale [0; 1] to [0; 2 pi]\n",
    "    theta = theta * 2 * np.pi\n",
    "    \n",
    "    # Remap [pi; 2 pi] to [-pi; 0]\n",
    "    negative = theta > np.pi # Boolean array : put 1 where theta > pi\n",
    "    theta[negative] = - (2 * np.pi - theta[negative]) \n",
    "    \n",
    "    return theta\n",
    "\n",
    "def rad2normal(theta):\n",
    "    \"\"\"Remap the hue channel to [0; 1] assuming source is in [-pi; pi] radians\"\"\"\n",
    "    \n",
    "    # Remap [-pi; 0] to [0; 2 pi]\n",
    "    negative = theta < 0 # Boolean array : put 1 where theta < 0\n",
    "    theta[negative] = 2 * np.pi + theta[negative]\n",
    "    \n",
    "    # Rescale to [0;1]\n",
    "    theta = theta / (2 * np.pi)\n",
    "    \n",
    "    return theta"
   ]
  },
  {
   "cell_type": "markdown",
   "metadata": {},
   "source": [
    "## Masks"
   ]
  },
  {
   "cell_type": "code",
   "execution_count": 91,
   "metadata": {
    "collapsed": true
   },
   "outputs": [],
   "source": [
    "def highlights(pixels):\n",
    "    \"\"\"Build a progressive luminance mask between [0;1],\n",
    "    assuming luminance in [0;1], as a gaussian function centered on 1\"\"\"\n",
    "    \n",
    "    sigma = 1/6.\n",
    "    mask = gaussian_weights(pixels, 1, sigma)\n",
    "    return mask\n",
    "\n",
    "def midtones(pixels):\n",
    "    \"\"\"Build a progressive luminance mask between [0;1],\n",
    "    assuming luminance in [0;1], as a gaussian function centered on 0.5\"\"\"\n",
    "    \n",
    "    sigma = 1/6.\n",
    "    mask = gaussian_weights(pixels, 0.5, sigma)\n",
    "    return mask\n",
    "\n",
    "def shadows(pixels):\n",
    "    \"\"\"Build a progressive luminance mask between [0;1],\n",
    "    assuming luminance in [0;1], as a gaussian function centered on 0\"\"\"\n",
    "    \n",
    "    sigma = 1/6.\n",
    "    mask = gaussian_weights(pixels, 0, sigma)\n",
    "    return mask"
   ]
  },
  {
   "cell_type": "markdown",
   "metadata": {},
   "source": [
    "## Test the functions behavior on the whole range"
   ]
  },
  {
   "cell_type": "code",
   "execution_count": 22,
   "metadata": {
    "collapsed": true
   },
   "outputs": [],
   "source": [
    "theta = np.arange(0, 1, 0.001)"
   ]
  },
  {
   "cell_type": "markdown",
   "metadata": {},
   "source": [
    "### Shift colors to red (0°)\n",
    "\n",
    "This graphs shows how hues from the whole chromatic wheel ([0;1], corresponding to [0°;360°]) are remaped to red (0, 0°). The curve in orange is the original hue repartition (linear). The curve in blue, the target is (0, 0), the complimentary color is (0.5, 0.5)."
   ]
  },
  {
   "cell_type": "code",
   "execution_count": 39,
   "metadata": {},
   "outputs": [
    {
     "data": {
      "text/plain": [
       "[<matplotlib.lines.Line2D at 0x7efd534cdeb8>]"
      ]
     },
     "execution_count": 39,
     "metadata": {},
     "output_type": "execute_result"
    },
    {
     "data": {
      "image/png": "[encoded data removed]",
      "text/plain": [
       "<matplotlib.figure.Figure at 0x7efd534cde48>"
      ]
     },
     "metadata": {},
     "output_type": "display_data"
    }
   ],
   "source": [
    "y = rad2normal(hue(normal2rad(theta), 0, 1))\n",
    "pylab.plot(theta, y)\n",
    "pylab.plot(theta, theta)"
   ]
  },
  {
   "cell_type": "markdown",
   "metadata": {},
   "source": [
    "### Shift colors to cyan (180°)"
   ]
  },
  {
   "cell_type": "code",
   "execution_count": 56,
   "metadata": {},
   "outputs": [
    {
     "data": {
      "text/plain": [
       "[<matplotlib.lines.Line2D at 0x7efd69091f98>]"
      ]
     },
     "execution_count": 56,
     "metadata": {},
     "output_type": "execute_result"
    },
    {
     "data": {
      "image/png": "[encoded data removed]",
      "text/plain": [
       "<matplotlib.figure.Figure at 0x7efd69091f60>"
      ]
     },
     "metadata": {},
     "output_type": "display_data"
    }
   ],
   "source": [
    "y = rad2normal(hue(normal2rad(theta), np.pi, 1))\n",
    "pylab.plot(theta, y)\n",
    "pylab.plot(theta, theta)"
   ]
  },
  {
   "cell_type": "markdown",
   "metadata": {},
   "source": [
    "### Shift color to green-ish (90°)"
   ]
  },
  {
   "cell_type": "code",
   "execution_count": 57,
   "metadata": {},
   "outputs": [
    {
     "data": {
      "text/plain": [
       "[<matplotlib.lines.Line2D at 0x7efe007b5b70>]"
      ]
     },
     "execution_count": 57,
     "metadata": {},
     "output_type": "execute_result"
    },
    {
     "data": {
      "image/png": "[encoded data removed]",
      "text/plain": [
       "<matplotlib.figure.Figure at 0x7efd5b1fb4e0>"
      ]
     },
     "metadata": {},
     "output_type": "display_data"
    }
   ],
   "source": [
    "y = rad2normal(hue(normal2rad(theta), np.pi/2, 1))\n",
    "pylab.plot(theta, y)\n",
    "pylab.plot(theta, theta)"
   ]
  },
  {
   "cell_type": "markdown",
   "metadata": {},
   "source": [
    "### Check the luma masks"
   ]
  },
  {
   "cell_type": "code",
   "execution_count": 93,
   "metadata": {},
   "outputs": [
    {
     "data": {
      "text/plain": [
       "[<matplotlib.lines.Line2D at 0x7efd6c712908>]"
      ]
     },
     "execution_count": 93,
     "metadata": {},
     "output_type": "execute_result"
    },
    {
     "data": {
      "image/png": "[encoded data removed]",
      "text/plain": [
       "<matplotlib.figure.Figure at 0x7efd6c7e0048>"
      ]
     },
     "metadata": {},
     "output_type": "display_data"
    }
   ],
   "source": [
    "x = np.arange(0, 1, 0.01)\n",
    "norm = highlights(x) + shadows(x) + midtones(x)\n",
    "pylab.plot(x, highlights(x)/norm)\n",
    "pylab.plot(x, shadows(x)/norm)\n",
    "pylab.plot(x, midtones(x)/norm)"
   ]
  },
  {
   "cell_type": "markdown",
   "metadata": {},
   "source": [
    "## Test the functions on a real image"
   ]
  },
  {
   "cell_type": "code",
   "execution_count": 9,
   "metadata": {
    "collapsed": true
   },
   "outputs": [],
   "source": [
    "# Load image\n",
    "im = Image.open(\"../img/153412.jpg\")\n",
    "\n",
    "# Convert RGB image to HSL\n",
    "r,g,b = im.split()\n",
    "H = []\n",
    "S = []\n",
    "V = []    \n",
    "for red, green, blue in zip(r.getdata(),g.getdata(),b.getdata()):\n",
    "    h, s, v = colorsys.rgb_to_hsv(red/255.,green/255.,blue/255.)\n",
    "    H.append(h)\n",
    "    S.append(s)\n",
    "    V.append(v)\n",
    "\n",
    "# Convert to Numpy arrays\n",
    "H = np.array(H)\n",
    "V = np.array(V)\n",
    "\n",
    "# Convert hue to radians\n",
    "H = normal2rad(H)"
   ]
  },
  {
   "cell_type": "code",
   "execution_count": 96,
   "metadata": {
    "collapsed": true
   },
   "outputs": [],
   "source": [
    "# Build the masks\n",
    "high = highlights(V)\n",
    "mid = midtones(V)\n",
    "low = shadows(V)\n",
    "total = high + mid + low"
   ]
  },
  {
   "cell_type": "code",
   "execution_count": 100,
   "metadata": {
    "collapsed": true
   },
   "outputs": [],
   "source": [
    "# Adjust the main hue\n",
    "H_bis = hue(H, 0, 0)"
   ]
  },
  {
   "cell_type": "code",
   "execution_count": 101,
   "metadata": {},
   "outputs": [],
   "source": [
    "# Adjust hue selectively for luminance zones \n",
    "H_bis = rad2normal(hue(H_bis, 0.75, 1)) * high/total + rad2normal(hue(H_bis, 0.75, 1)) * mid/total + rad2normal(hue(H_bis, np.pi, 1)) * low/total # Perform an teal/orange shift"
   ]
  },
  {
   "cell_type": "code",
   "execution_count": 102,
   "metadata": {
    "collapsed": true
   },
   "outputs": [],
   "source": [
    "# Convert hue back to normal [0;1]\n",
    "#H_bis = rad2normal(H_bis)\n",
    "\n",
    "# Convert back HSL image to RGB\n",
    "rout = []\n",
    "gout = []\n",
    "bout = []  \n",
    "for h, s, v in zip(H_bis, S, V):\n",
    "    rd, gn, bl = colorsys.hsv_to_rgb(h, s, v)\n",
    "    rout.append(rd * 255)\n",
    "    gout.append(gn * 255)\n",
    "    bout.append(bl * 255)\n",
    "\n",
    "# Save image\n",
    "r.putdata(rout)\n",
    "g.putdata(gout)\n",
    "b.putdata(bout)\n",
    "newimg = Image.merge('RGB',(r,g,b))\n",
    "newimg.save('153412-hue-shift.jpg')"
   ]
  },
  {
   "cell_type": "code",
   "execution_count": null,
   "metadata": {
    "collapsed": true
   },
   "outputs": [],
   "source": []
  }
 ],
 "metadata": {
  "kernelspec": {
   "display_name": "Python 3",
   "language": "python",
   "name": "python3"
  },
  "language_info": {
   "codemirror_mode": {
    "name": "ipython",
    "version": 3
   },
   "file_extension": ".py",
   "mimetype": "text/x-python",
   "name": "python",
   "nbconvert_exporter": "python",
   "pygments_lexer": "ipython3",
   "version": "3.6.3"
  }
 },
 "nbformat": 4,
 "nbformat_minor": 2
}
